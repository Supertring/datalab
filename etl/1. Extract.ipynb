{
 "cells": [
  {
   "cell_type": "markdown",
   "id": "2963fb75",
   "metadata": {},
   "source": [
    "# Extract"
   ]
  },
  {
   "cell_type": "code",
   "execution_count": 3,
   "id": "714cada0",
   "metadata": {},
   "outputs": [],
   "source": [
    "import sys            # read system parameters\n",
    "import pandas as pd   # manipulate and analyze data\n",
    "import sqlite3        # manage sql databases"
   ]
  },
  {
   "cell_type": "code",
   "execution_count": 4,
   "id": "eda8549e",
   "metadata": {},
   "outputs": [
    {
     "name": "stdout",
     "output_type": "stream",
     "text": [
      "Libraries used in the project\n",
      "Python 3.10.12 (main, Jun 11 2023, 05:26:28) [GCC 11.4.0]\n",
      "Pandas 1.5.3\n",
      "sqlite3 3.37.2\n"
     ]
    }
   ],
   "source": [
    "# summarize libraries\n",
    "print('Libraries used in the project')\n",
    "print('Python {}'. format(sys.version))\n",
    "print('Pandas {}'. format(pd.__version__))\n",
    "print('sqlite3 {}'. format(sqlite3.sqlite_version))"
   ]
  },
  {
   "cell_type": "markdown",
   "id": "556fc1fd",
   "metadata": {},
   "source": [
    "# Task 1: Reading Data from CSV Files\n",
    "\n",
    "__Load a SCV file as a DataFrame__"
   ]
  },
  {
   "cell_type": "code",
   "execution_count": 6,
   "id": "2e665420",
   "metadata": {},
   "outputs": [],
   "source": [
    "complaints_data = pd.read_csv('consumer_loan_complaints.csv')"
   ]
  },
  {
   "cell_type": "code",
   "execution_count": 9,
   "id": "ed860fc0",
   "metadata": {},
   "outputs": [
    {
     "data": {
      "text/html": [
       "<div>\n",
       "<style scoped>\n",
       "    .dataframe tbody tr th:only-of-type {\n",
       "        vertical-align: middle;\n",
       "    }\n",
       "\n",
       "    .dataframe tbody tr th {\n",
       "        vertical-align: top;\n",
       "    }\n",
       "\n",
       "    .dataframe thead th {\n",
       "        text-align: right;\n",
       "    }\n",
       "</style>\n",
       "<table border=\"1\" class=\"dataframe\">\n",
       "  <thead>\n",
       "    <tr style=\"text-align: right;\">\n",
       "      <th></th>\n",
       "      <th>user_id</th>\n",
       "      <th>Date received</th>\n",
       "      <th>Product</th>\n",
       "      <th>Issue</th>\n",
       "      <th>Consumer complaint narrative</th>\n",
       "      <th>State</th>\n",
       "      <th>ZIP code</th>\n",
       "      <th>Submitted via</th>\n",
       "      <th>Date sent to company</th>\n",
       "      <th>Company response to consumer</th>\n",
       "      <th>Timely response?</th>\n",
       "      <th>Consumer disputed?</th>\n",
       "      <th>Complaint ID</th>\n",
       "    </tr>\n",
       "  </thead>\n",
       "  <tbody>\n",
       "    <tr>\n",
       "      <th>0</th>\n",
       "      <td>44fefdad-7045-4be5-890e-12e84ae6fdc9</td>\n",
       "      <td>01/27/2016</td>\n",
       "      <td>Consumer Loan</td>\n",
       "      <td>Account terms and changes</td>\n",
       "      <td>NaN</td>\n",
       "      <td>AL</td>\n",
       "      <td>35180</td>\n",
       "      <td>Phone</td>\n",
       "      <td>01/27/2016</td>\n",
       "      <td>Closed with explanation</td>\n",
       "      <td>Yes</td>\n",
       "      <td>No</td>\n",
       "      <td>1760486</td>\n",
       "    </tr>\n",
       "    <tr>\n",
       "      <th>1</th>\n",
       "      <td>c49d5d60-909f-406b-b7ff-51143fcb650b</td>\n",
       "      <td>08/26/2014</td>\n",
       "      <td>Consumer Loan</td>\n",
       "      <td>Account terms and changes</td>\n",
       "      <td>NaN</td>\n",
       "      <td>NC</td>\n",
       "      <td>278XX</td>\n",
       "      <td>Phone</td>\n",
       "      <td>08/29/2014</td>\n",
       "      <td>Closed with non-monetary relief</td>\n",
       "      <td>Yes</td>\n",
       "      <td>No</td>\n",
       "      <td>1001740</td>\n",
       "    </tr>\n",
       "    <tr>\n",
       "      <th>2</th>\n",
       "      <td>9b2cd5d2-900e-4052-831f-6489f6d568af</td>\n",
       "      <td>08/22/2012</td>\n",
       "      <td>Consumer Loan</td>\n",
       "      <td>Account terms and changes</td>\n",
       "      <td>NaN</td>\n",
       "      <td>TN</td>\n",
       "      <td>37205</td>\n",
       "      <td>Referral</td>\n",
       "      <td>08/23/2012</td>\n",
       "      <td>Closed with non-monetary relief</td>\n",
       "      <td>Yes</td>\n",
       "      <td>No</td>\n",
       "      <td>140039</td>\n",
       "    </tr>\n",
       "    <tr>\n",
       "      <th>3</th>\n",
       "      <td>b7e5b324-268e-4502-81a1-1a025673c2a0</td>\n",
       "      <td>05/07/2013</td>\n",
       "      <td>Consumer Loan</td>\n",
       "      <td>Problems when you are unable to pay</td>\n",
       "      <td>NaN</td>\n",
       "      <td>OH</td>\n",
       "      <td>43081</td>\n",
       "      <td>Web</td>\n",
       "      <td>05/08/2013</td>\n",
       "      <td>Closed with explanation</td>\n",
       "      <td>Yes</td>\n",
       "      <td>Yes</td>\n",
       "      <td>401541</td>\n",
       "    </tr>\n",
       "    <tr>\n",
       "      <th>4</th>\n",
       "      <td>684eeb4c-c9c3-4a97-8213-f3962a6c0aba</td>\n",
       "      <td>06/15/2016</td>\n",
       "      <td>Consumer Loan</td>\n",
       "      <td>Managing the line of credit</td>\n",
       "      <td>NaN</td>\n",
       "      <td>NC</td>\n",
       "      <td>27216</td>\n",
       "      <td>Phone</td>\n",
       "      <td>09/08/2016</td>\n",
       "      <td>Closed with non-monetary relief</td>\n",
       "      <td>Yes</td>\n",
       "      <td>No</td>\n",
       "      <td>1970341</td>\n",
       "    </tr>\n",
       "    <tr>\n",
       "      <th>5</th>\n",
       "      <td>0212d4b6-0cb6-47a3-a57d-b87162420ec4</td>\n",
       "      <td>04/23/2012</td>\n",
       "      <td>Consumer Loan</td>\n",
       "      <td>Account terms and changes</td>\n",
       "      <td>NaN</td>\n",
       "      <td>NY</td>\n",
       "      <td>11207</td>\n",
       "      <td>Referral</td>\n",
       "      <td>04/25/2012</td>\n",
       "      <td>Closed without relief</td>\n",
       "      <td>Yes</td>\n",
       "      <td>No</td>\n",
       "      <td>38375</td>\n",
       "    </tr>\n",
       "  </tbody>\n",
       "</table>\n",
       "</div>"
      ],
      "text/plain": [
       "                                user_id Date received        Product  \\\n",
       "0  44fefdad-7045-4be5-890e-12e84ae6fdc9    01/27/2016  Consumer Loan   \n",
       "1  c49d5d60-909f-406b-b7ff-51143fcb650b    08/26/2014  Consumer Loan   \n",
       "2  9b2cd5d2-900e-4052-831f-6489f6d568af    08/22/2012  Consumer Loan   \n",
       "3  b7e5b324-268e-4502-81a1-1a025673c2a0    05/07/2013  Consumer Loan   \n",
       "4  684eeb4c-c9c3-4a97-8213-f3962a6c0aba    06/15/2016  Consumer Loan   \n",
       "5  0212d4b6-0cb6-47a3-a57d-b87162420ec4    04/23/2012  Consumer Loan   \n",
       "\n",
       "                                 Issue Consumer complaint narrative State  \\\n",
       "0            Account terms and changes                          NaN    AL   \n",
       "1            Account terms and changes                          NaN    NC   \n",
       "2            Account terms and changes                          NaN    TN   \n",
       "3  Problems when you are unable to pay                          NaN    OH   \n",
       "4          Managing the line of credit                          NaN    NC   \n",
       "5            Account terms and changes                          NaN    NY   \n",
       "\n",
       "  ZIP code Submitted via Date sent to company  \\\n",
       "0    35180         Phone           01/27/2016   \n",
       "1    278XX         Phone           08/29/2014   \n",
       "2    37205      Referral           08/23/2012   \n",
       "3    43081           Web           05/08/2013   \n",
       "4    27216         Phone           09/08/2016   \n",
       "5    11207      Referral           04/25/2012   \n",
       "\n",
       "      Company response to consumer Timely response? Consumer disputed?  \\\n",
       "0          Closed with explanation              Yes                 No   \n",
       "1  Closed with non-monetary relief              Yes                 No   \n",
       "2  Closed with non-monetary relief              Yes                 No   \n",
       "3          Closed with explanation              Yes                Yes   \n",
       "4  Closed with non-monetary relief              Yes                 No   \n",
       "5            Closed without relief              Yes                 No   \n",
       "\n",
       "   Complaint ID  \n",
       "0       1760486  \n",
       "1       1001740  \n",
       "2        140039  \n",
       "3        401541  \n",
       "4       1970341  \n",
       "5         38375  "
      ]
     },
     "execution_count": 9,
     "metadata": {},
     "output_type": "execute_result"
    }
   ],
   "source": [
    "complaints_data.head(n=6)"
   ]
  },
  {
   "cell_type": "code",
   "execution_count": 13,
   "id": "c722e137",
   "metadata": {},
   "outputs": [
    {
     "data": {
      "text/plain": [
       "user_id                         object\n",
       "Date received                   object\n",
       "Product                         object\n",
       "Issue                           object\n",
       "Consumer complaint narrative    object\n",
       "State                           object\n",
       "ZIP code                        object\n",
       "Submitted via                   object\n",
       "Date sent to company            object\n",
       "Company response to consumer    object\n",
       "Timely response?                object\n",
       "Consumer disputed?              object\n",
       "Complaint ID                     int64\n",
       "dtype: object"
      ]
     },
     "execution_count": 13,
     "metadata": {},
     "output_type": "execute_result"
    }
   ],
   "source": [
    "complaints_data.dtypes"
   ]
  },
  {
   "cell_type": "markdown",
   "id": "6aa8a4e9",
   "metadata": {},
   "source": [
    "__Descriptions__\n",
    "\n",
    "* __user_id__: unique hexadecimal string to identify user\n",
    "* __Data received__: the data complaint was received by the organization\n",
    "* __Product__: the product complaint is about\n",
    "* __Issue__: type of issue about the complaint\n",
    "* __Consumer complaint narrative__: text/description about complaints, optional\n",
    "* __State__: U.S. state the user resides in\n",
    "* __ZIP code__: ZIP code of the uesr\n",
    "* __Submitted via__: method the user submitted the complaint\n",
    "* __Date sent to company__: the date complaint was sent by the user\n",
    "* __Timely response?__: if the org response was in time, according to some metric, given within an acceptable time period\n",
    "* __Consumer disputed?__: if or not the user disputed the action the organization took in response to the complaint.\n",
    "* __Complaint ID__: unique identifier for the complaint itself"
   ]
  },
  {
   "cell_type": "markdown",
   "id": "b45eb386",
   "metadata": {},
   "source": [
    "# Task 2: Extracting Data with Database Queries\n",
    "\n",
    "__Database__:\n",
    "* Name: user_data.db\n",
    "* Tables: \n",
    "    * users: users info\n",
    "    * device: user devices\n",
    "    * transactions: user transaction history"
   ]
  },
  {
   "cell_type": "code",
   "execution_count": 15,
   "id": "02170721",
   "metadata": {},
   "outputs": [
    {
     "data": {
      "text/plain": [
       "<sqlite3.Connection at 0x7f55a08c4a40>"
      ]
     },
     "execution_count": 15,
     "metadata": {},
     "output_type": "execute_result"
    }
   ],
   "source": [
    "# create a connection to the sqlite database\n",
    "# conn establishes connection to the database\n",
    "\n",
    "conn = sqlite3.connect('user_data.db')\n",
    "conn"
   ]
  },
  {
   "cell_type": "code",
   "execution_count": 16,
   "id": "42fdd776",
   "metadata": {},
   "outputs": [],
   "source": [
    "# read the users data from users table,\n",
    "\n",
    "query = 'SELECT * FROM users'"
   ]
  },
  {
   "cell_type": "code",
   "execution_count": 19,
   "id": "018cc284",
   "metadata": {},
   "outputs": [
    {
     "data": {
      "text/html": [
       "<div>\n",
       "<style scoped>\n",
       "    .dataframe tbody tr th:only-of-type {\n",
       "        vertical-align: middle;\n",
       "    }\n",
       "\n",
       "    .dataframe tbody tr th {\n",
       "        vertical-align: top;\n",
       "    }\n",
       "\n",
       "    .dataframe thead th {\n",
       "        text-align: right;\n",
       "    }\n",
       "</style>\n",
       "<table border=\"1\" class=\"dataframe\">\n",
       "  <thead>\n",
       "    <tr style=\"text-align: right;\">\n",
       "      <th></th>\n",
       "      <th>user_id</th>\n",
       "      <th>age</th>\n",
       "      <th>job</th>\n",
       "      <th>marital</th>\n",
       "      <th>education</th>\n",
       "      <th>default</th>\n",
       "      <th>housing</th>\n",
       "      <th>loan</th>\n",
       "      <th>contact</th>\n",
       "      <th>duration</th>\n",
       "      <th>campaign</th>\n",
       "      <th>pdays</th>\n",
       "      <th>previous</th>\n",
       "      <th>poutcome</th>\n",
       "      <th>term_deposit</th>\n",
       "      <th>date_joined</th>\n",
       "    </tr>\n",
       "  </thead>\n",
       "  <tbody>\n",
       "    <tr>\n",
       "      <th>0</th>\n",
       "      <td>9231c446-cb16-4b2b-a7f7-ddfc8b25aaf6</td>\n",
       "      <td>58</td>\n",
       "      <td>management</td>\n",
       "      <td>married</td>\n",
       "      <td>tertiary</td>\n",
       "      <td>no</td>\n",
       "      <td>yes</td>\n",
       "      <td>no</td>\n",
       "      <td>None</td>\n",
       "      <td>261</td>\n",
       "      <td>1</td>\n",
       "      <td>-1</td>\n",
       "      <td>0</td>\n",
       "      <td>None</td>\n",
       "      <td>no</td>\n",
       "      <td>1998-08-23</td>\n",
       "    </tr>\n",
       "    <tr>\n",
       "      <th>1</th>\n",
       "      <td>bb92765a-08de-4963-b432-496524b39157</td>\n",
       "      <td>44</td>\n",
       "      <td>technician</td>\n",
       "      <td>single</td>\n",
       "      <td>secondary</td>\n",
       "      <td>no</td>\n",
       "      <td>yes</td>\n",
       "      <td>no</td>\n",
       "      <td>None</td>\n",
       "      <td>151</td>\n",
       "      <td>1</td>\n",
       "      <td>-1</td>\n",
       "      <td>0</td>\n",
       "      <td>None</td>\n",
       "      <td>no</td>\n",
       "      <td>2008-07-15</td>\n",
       "    </tr>\n",
       "  </tbody>\n",
       "</table>\n",
       "</div>"
      ],
      "text/plain": [
       "                                user_id  age         job  marital  education  \\\n",
       "0  9231c446-cb16-4b2b-a7f7-ddfc8b25aaf6   58  management  married   tertiary   \n",
       "1  bb92765a-08de-4963-b432-496524b39157   44  technician   single  secondary   \n",
       "\n",
       "  default housing loan contact  duration  campaign  pdays  previous poutcome  \\\n",
       "0      no     yes   no    None       261         1     -1         0     None   \n",
       "1      no     yes   no    None       151         1     -1         0     None   \n",
       "\n",
       "  term_deposit date_joined  \n",
       "0           no  1998-08-23  \n",
       "1           no  2008-07-15  "
      ]
     },
     "execution_count": 19,
     "metadata": {},
     "output_type": "execute_result"
    }
   ],
   "source": [
    "# read the query into the dataframe\n",
    "\n",
    "users = pd.read_sql(query, conn)\n",
    "users.head(n=2)"
   ]
  },
  {
   "cell_type": "code",
   "execution_count": 20,
   "id": "f1b49a85",
   "metadata": {},
   "outputs": [
    {
     "name": "stdout",
     "output_type": "stream",
     "text": [
      "<class 'pandas.core.frame.DataFrame'>\n",
      "RangeIndex: 45216 entries, 0 to 45215\n",
      "Data columns (total 16 columns):\n",
      " #   Column        Non-Null Count  Dtype \n",
      "---  ------        --------------  ----- \n",
      " 0   user_id       45216 non-null  object\n",
      " 1   age           45216 non-null  int64 \n",
      " 2   job           44928 non-null  object\n",
      " 3   marital       45216 non-null  object\n",
      " 4   education     43359 non-null  object\n",
      " 5   default       45216 non-null  object\n",
      " 6   housing       45216 non-null  object\n",
      " 7   loan          45216 non-null  object\n",
      " 8   contact       32196 non-null  object\n",
      " 9   duration      45216 non-null  int64 \n",
      " 10  campaign      45216 non-null  int64 \n",
      " 11  pdays         45216 non-null  int64 \n",
      " 12  previous      45216 non-null  int64 \n",
      " 13  poutcome      8255 non-null   object\n",
      " 14  term_deposit  45216 non-null  object\n",
      " 15  date_joined   45186 non-null  object\n",
      "dtypes: int64(5), object(11)\n",
      "memory usage: 5.5+ MB\n"
     ]
    }
   ],
   "source": [
    "users.info()"
   ]
  },
  {
   "cell_type": "markdown",
   "id": "f70aa188",
   "metadata": {},
   "source": [
    "__Table: users__\n",
    "\n",
    "* __age__: The age of the user.\n",
    "* __job__: The user's job title.\n",
    "* __marital__: The user's marital status.\n",
    "* __education__: The user's level of education.\n",
    "* __default__: Whether the user has defaulted on a loan.\n",
    "* __housing__: Whether or not the user has a housing loan.\n",
    "* __loan__: Whether or not the user has a personal loan.\n",
    "* __contact__: The method the user and organization use to communicate.\n",
    "* __duration__: The duration of the last contact session with the user, in seconds.\n",
    "* __campaign__: Number of times the user was contacted for the current marketing campaign.\n",
    "* __pdays__: Number of days that passed after the user was contacted from a previous campaign.\n",
    "* __previous__: Number of times the user was contacted prior to the current campaign.\n",
    "* __poutcome__: The result of the previous campaign.\n",
    "* __term_deposit__: Whether or not the client subscribed to a term deposit.\n",
    "* __date_joined__: The date the user signed up for an account."
   ]
  },
  {
   "cell_type": "code",
   "execution_count": 21,
   "id": "c180a2d5",
   "metadata": {},
   "outputs": [
    {
     "data": {
      "text/plain": [
       "(45216, 16)"
      ]
     },
     "execution_count": 21,
     "metadata": {},
     "output_type": "execute_result"
    }
   ],
   "source": [
    "users.shape"
   ]
  },
  {
   "cell_type": "code",
   "execution_count": 22,
   "id": "38a83929",
   "metadata": {},
   "outputs": [
    {
     "data": {
      "text/html": [
       "<div>\n",
       "<style scoped>\n",
       "    .dataframe tbody tr th:only-of-type {\n",
       "        vertical-align: middle;\n",
       "    }\n",
       "\n",
       "    .dataframe tbody tr th {\n",
       "        vertical-align: top;\n",
       "    }\n",
       "\n",
       "    .dataframe thead th {\n",
       "        text-align: right;\n",
       "    }\n",
       "</style>\n",
       "<table border=\"1\" class=\"dataframe\">\n",
       "  <thead>\n",
       "    <tr style=\"text-align: right;\">\n",
       "      <th></th>\n",
       "      <th>user_id</th>\n",
       "      <th>device</th>\n",
       "    </tr>\n",
       "  </thead>\n",
       "  <tbody>\n",
       "    <tr>\n",
       "      <th>0</th>\n",
       "      <td>9231c446-cb16-4b2b-a7f7-ddfc8b25aaf6</td>\n",
       "      <td>mobile</td>\n",
       "    </tr>\n",
       "    <tr>\n",
       "      <th>1</th>\n",
       "      <td>bb92765a-08de-4963-b432-496524b39157</td>\n",
       "      <td>desktop</td>\n",
       "    </tr>\n",
       "  </tbody>\n",
       "</table>\n",
       "</div>"
      ],
      "text/plain": [
       "                                user_id   device\n",
       "0  9231c446-cb16-4b2b-a7f7-ddfc8b25aaf6   mobile\n",
       "1  bb92765a-08de-4963-b432-496524b39157  desktop"
      ]
     },
     "execution_count": 22,
     "metadata": {},
     "output_type": "execute_result"
    }
   ],
   "source": [
    "# read the device data from device table\n",
    "\n",
    "query = 'SELECT * FROM device'\n",
    "device = pd.read_sql(query, conn)\n",
    "device.head(n=2)"
   ]
  },
  {
   "cell_type": "code",
   "execution_count": 25,
   "id": "7cf1df3f",
   "metadata": {},
   "outputs": [
    {
     "data": {
      "text/plain": [
       "(45117, 2)"
      ]
     },
     "execution_count": 25,
     "metadata": {},
     "output_type": "execute_result"
    }
   ],
   "source": [
    "device.shape"
   ]
  },
  {
   "cell_type": "code",
   "execution_count": 26,
   "id": "c38e0973",
   "metadata": {},
   "outputs": [
    {
     "data": {
      "text/html": [
       "<div>\n",
       "<style scoped>\n",
       "    .dataframe tbody tr th:only-of-type {\n",
       "        vertical-align: middle;\n",
       "    }\n",
       "\n",
       "    .dataframe tbody tr th {\n",
       "        vertical-align: top;\n",
       "    }\n",
       "\n",
       "    .dataframe thead th {\n",
       "        text-align: right;\n",
       "    }\n",
       "</style>\n",
       "<table border=\"1\" class=\"dataframe\">\n",
       "  <thead>\n",
       "    <tr style=\"text-align: right;\">\n",
       "      <th></th>\n",
       "      <th>user_id</th>\n",
       "      <th>transaction_id</th>\n",
       "      <th>amount_usd</th>\n",
       "    </tr>\n",
       "  </thead>\n",
       "  <tbody>\n",
       "    <tr>\n",
       "      <th>0</th>\n",
       "      <td>9231c446-cb16-4b2b-a7f7-ddfc8b25aaf6</td>\n",
       "      <td>transaction_5180</td>\n",
       "      <td>1332</td>\n",
       "    </tr>\n",
       "    <tr>\n",
       "      <th>1</th>\n",
       "      <td>9231c446-cb16-4b2b-a7f7-ddfc8b25aaf6</td>\n",
       "      <td>transaction_5607</td>\n",
       "      <td>726</td>\n",
       "    </tr>\n",
       "    <tr>\n",
       "      <th>2</th>\n",
       "      <td>9231c446-cb16-4b2b-a7f7-ddfc8b25aaf6</td>\n",
       "      <td>transaction_6765</td>\n",
       "      <td>85</td>\n",
       "    </tr>\n",
       "  </tbody>\n",
       "</table>\n",
       "</div>"
      ],
      "text/plain": [
       "                                user_id    transaction_id  amount_usd\n",
       "0  9231c446-cb16-4b2b-a7f7-ddfc8b25aaf6  transaction_5180        1332\n",
       "1  9231c446-cb16-4b2b-a7f7-ddfc8b25aaf6  transaction_5607         726\n",
       "2  9231c446-cb16-4b2b-a7f7-ddfc8b25aaf6  transaction_6765          85"
      ]
     },
     "execution_count": 26,
     "metadata": {},
     "output_type": "execute_result"
    }
   ],
   "source": [
    "# read the user transactions data\n",
    "\n",
    "query = 'SELECT * FROM transactions'\n",
    "transactions = pd.read_sql(query, conn)\n",
    "transactions.head(n=3)"
   ]
  },
  {
   "cell_type": "markdown",
   "id": "22867347",
   "metadata": {},
   "source": [
    "__Table : transactions__\n",
    "\n",
    "* __user_id__: id of user\n",
    "* __transaction_id__: A unique identifier for each transaction.\n",
    "* __amount_usd__: The total amount of the transaction in U.S. dollar"
   ]
  },
  {
   "cell_type": "code",
   "execution_count": 27,
   "id": "5f82fc99",
   "metadata": {},
   "outputs": [
    {
     "data": {
      "text/plain": [
       "(140034, 3)"
      ]
     },
     "execution_count": 27,
     "metadata": {},
     "output_type": "execute_result"
    }
   ],
   "source": [
    "transactions.shape"
   ]
  },
  {
   "cell_type": "markdown",
   "id": "871815d4",
   "metadata": {},
   "source": [
    "__Aggregate the__ `transactions` __data__"
   ]
  },
  {
   "cell_type": "code",
   "execution_count": 29,
   "id": "3ecab719",
   "metadata": {},
   "outputs": [
    {
     "data": {
      "text/html": [
       "<div>\n",
       "<style scoped>\n",
       "    .dataframe tbody tr th:only-of-type {\n",
       "        vertical-align: middle;\n",
       "    }\n",
       "\n",
       "    .dataframe tbody tr th {\n",
       "        vertical-align: top;\n",
       "    }\n",
       "\n",
       "    .dataframe thead th {\n",
       "        text-align: right;\n",
       "    }\n",
       "</style>\n",
       "<table border=\"1\" class=\"dataframe\">\n",
       "  <thead>\n",
       "    <tr style=\"text-align: right;\">\n",
       "      <th></th>\n",
       "      <th>user_id</th>\n",
       "      <th>number_transactions</th>\n",
       "      <th>total_amount_usd</th>\n",
       "    </tr>\n",
       "  </thead>\n",
       "  <tbody>\n",
       "    <tr>\n",
       "      <th>0</th>\n",
       "      <td>0001570d-8aed-465e-b547-8981651084ed</td>\n",
       "      <td>3</td>\n",
       "      <td>792</td>\n",
       "    </tr>\n",
       "    <tr>\n",
       "      <th>1</th>\n",
       "      <td>000548ed-aa18-4eef-b8ed-68a9126e33ab</td>\n",
       "      <td>2</td>\n",
       "      <td>1044</td>\n",
       "    </tr>\n",
       "    <tr>\n",
       "      <th>2</th>\n",
       "      <td>00069959-4d55-460e-bb76-ae13ddbd80a6</td>\n",
       "      <td>5</td>\n",
       "      <td>0</td>\n",
       "    </tr>\n",
       "    <tr>\n",
       "      <th>3</th>\n",
       "      <td>000bab00-aec4-4ee2-81a6-1f897c38726b</td>\n",
       "      <td>19</td>\n",
       "      <td>0</td>\n",
       "    </tr>\n",
       "    <tr>\n",
       "      <th>4</th>\n",
       "      <td>000cbac8-212f-46fb-b58f-861dada34284</td>\n",
       "      <td>2</td>\n",
       "      <td>399</td>\n",
       "    </tr>\n",
       "  </tbody>\n",
       "</table>\n",
       "</div>"
      ],
      "text/plain": [
       "                                user_id  number_transactions  total_amount_usd\n",
       "0  0001570d-8aed-465e-b547-8981651084ed                    3               792\n",
       "1  000548ed-aa18-4eef-b8ed-68a9126e33ab                    2              1044\n",
       "2  00069959-4d55-460e-bb76-ae13ddbd80a6                    5                 0\n",
       "3  000bab00-aec4-4ee2-81a6-1f897c38726b                   19                 0\n",
       "4  000cbac8-212f-46fb-b58f-861dada34284                    2               399"
      ]
     },
     "execution_count": 29,
     "metadata": {},
     "output_type": "execute_result"
    }
   ],
   "source": [
    "# aggregate data on the number of transactions and the total amount based on unique user_id\n",
    "\n",
    "query = '''SELECT user_id,\n",
    "                  COUNT(*) AS number_transactions,\n",
    "                  SUM(amount_usd) AS total_amount_usd\n",
    "           FROM transactions\n",
    "           GROUP BY user_id'''\n",
    "transactions_agg = pd.read_sql(query, conn)\n",
    "transactions_agg.head()"
   ]
  },
  {
   "cell_type": "code",
   "execution_count": 30,
   "id": "b25ad054",
   "metadata": {},
   "outputs": [
    {
     "data": {
      "text/plain": [
       "(35211, 3)"
      ]
     },
     "execution_count": 30,
     "metadata": {},
     "output_type": "execute_result"
    }
   ],
   "source": [
    "transactions_agg.shape"
   ]
  },
  {
   "cell_type": "code",
   "execution_count": null,
   "id": "0921cc02",
   "metadata": {},
   "outputs": [],
   "source": []
  },
  {
   "cell_type": "markdown",
   "id": "172cdbbc",
   "metadata": {},
   "source": [
    "# Consolidating Data from Multiple Sources\n",
    "\n",
    "* Extracted data from csv and sqlite db\n",
    "* data tables currently live in separate objects\n",
    "* but they share common key: `user_id`\n",
    "\n",
    "__Create a Master Table__\n",
    "* includes all data from various tables\n",
    "* makes data analysis easier"
   ]
  },
  {
   "cell_type": "markdown",
   "id": "7c33db5e",
   "metadata": {},
   "source": [
    "__Merge the__ `device` __table with__ `users` __table__"
   ]
  },
  {
   "cell_type": "code",
   "execution_count": 31,
   "id": "3cb161ef",
   "metadata": {},
   "outputs": [],
   "source": [
    "# do a left join, as all users in the users table are of interest\n",
    "\n",
    "query = '''SELECT left_table.*, right_table.device\n",
    "           FROM users AS left_table\n",
    "           LEFT JOIN device AS right_table\n",
    "           ON left_table.user_id = right_table.user_id'''\n",
    "\n",
    "users_w_device = pd.read_sql(query, conn)"
   ]
  },
  {
   "cell_type": "code",
   "execution_count": 32,
   "id": "b165a6c8",
   "metadata": {},
   "outputs": [
    {
     "data": {
      "text/html": [
       "<div>\n",
       "<style scoped>\n",
       "    .dataframe tbody tr th:only-of-type {\n",
       "        vertical-align: middle;\n",
       "    }\n",
       "\n",
       "    .dataframe tbody tr th {\n",
       "        vertical-align: top;\n",
       "    }\n",
       "\n",
       "    .dataframe thead th {\n",
       "        text-align: right;\n",
       "    }\n",
       "</style>\n",
       "<table border=\"1\" class=\"dataframe\">\n",
       "  <thead>\n",
       "    <tr style=\"text-align: right;\">\n",
       "      <th></th>\n",
       "      <th>user_id</th>\n",
       "      <th>age</th>\n",
       "      <th>job</th>\n",
       "      <th>marital</th>\n",
       "      <th>education</th>\n",
       "      <th>default</th>\n",
       "      <th>housing</th>\n",
       "      <th>loan</th>\n",
       "      <th>contact</th>\n",
       "      <th>duration</th>\n",
       "      <th>campaign</th>\n",
       "      <th>pdays</th>\n",
       "      <th>previous</th>\n",
       "      <th>poutcome</th>\n",
       "      <th>term_deposit</th>\n",
       "      <th>date_joined</th>\n",
       "      <th>device</th>\n",
       "    </tr>\n",
       "  </thead>\n",
       "  <tbody>\n",
       "    <tr>\n",
       "      <th>0</th>\n",
       "      <td>9231c446-cb16-4b2b-a7f7-ddfc8b25aaf6</td>\n",
       "      <td>58</td>\n",
       "      <td>management</td>\n",
       "      <td>married</td>\n",
       "      <td>tertiary</td>\n",
       "      <td>no</td>\n",
       "      <td>yes</td>\n",
       "      <td>no</td>\n",
       "      <td>None</td>\n",
       "      <td>261</td>\n",
       "      <td>1</td>\n",
       "      <td>-1</td>\n",
       "      <td>0</td>\n",
       "      <td>None</td>\n",
       "      <td>no</td>\n",
       "      <td>1998-08-23</td>\n",
       "      <td>mobile</td>\n",
       "    </tr>\n",
       "    <tr>\n",
       "      <th>1</th>\n",
       "      <td>bb92765a-08de-4963-b432-496524b39157</td>\n",
       "      <td>44</td>\n",
       "      <td>technician</td>\n",
       "      <td>single</td>\n",
       "      <td>secondary</td>\n",
       "      <td>no</td>\n",
       "      <td>yes</td>\n",
       "      <td>no</td>\n",
       "      <td>None</td>\n",
       "      <td>151</td>\n",
       "      <td>1</td>\n",
       "      <td>-1</td>\n",
       "      <td>0</td>\n",
       "      <td>None</td>\n",
       "      <td>no</td>\n",
       "      <td>2008-07-15</td>\n",
       "      <td>desktop</td>\n",
       "    </tr>\n",
       "    <tr>\n",
       "      <th>2</th>\n",
       "      <td>573de577-49ef-42b9-83da-d3cfb817b5c1</td>\n",
       "      <td>33</td>\n",
       "      <td>entrepreneur</td>\n",
       "      <td>married</td>\n",
       "      <td>secondary</td>\n",
       "      <td>no</td>\n",
       "      <td>yes</td>\n",
       "      <td>yes</td>\n",
       "      <td>None</td>\n",
       "      <td>76</td>\n",
       "      <td>1</td>\n",
       "      <td>-1</td>\n",
       "      <td>0</td>\n",
       "      <td>None</td>\n",
       "      <td>no</td>\n",
       "      <td>2002-06-04</td>\n",
       "      <td>mobile</td>\n",
       "    </tr>\n",
       "    <tr>\n",
       "      <th>3</th>\n",
       "      <td>d6b66b9d-7c8f-4257-a682-e136f640b7e3</td>\n",
       "      <td>47</td>\n",
       "      <td>blue-collar</td>\n",
       "      <td>married</td>\n",
       "      <td>None</td>\n",
       "      <td>no</td>\n",
       "      <td>yes</td>\n",
       "      <td>no</td>\n",
       "      <td>None</td>\n",
       "      <td>92</td>\n",
       "      <td>1</td>\n",
       "      <td>-1</td>\n",
       "      <td>0</td>\n",
       "      <td>None</td>\n",
       "      <td>no</td>\n",
       "      <td>1995-06-29</td>\n",
       "      <td>tablet</td>\n",
       "    </tr>\n",
       "    <tr>\n",
       "      <th>4</th>\n",
       "      <td>fade0b20-7594-4d9a-84cd-c02f79b1b526</td>\n",
       "      <td>33</td>\n",
       "      <td>None</td>\n",
       "      <td>single</td>\n",
       "      <td>None</td>\n",
       "      <td>no</td>\n",
       "      <td>no</td>\n",
       "      <td>no</td>\n",
       "      <td>None</td>\n",
       "      <td>198</td>\n",
       "      <td>1</td>\n",
       "      <td>-1</td>\n",
       "      <td>0</td>\n",
       "      <td>None</td>\n",
       "      <td>no</td>\n",
       "      <td>1995-08-01</td>\n",
       "      <td>mobile</td>\n",
       "    </tr>\n",
       "  </tbody>\n",
       "</table>\n",
       "</div>"
      ],
      "text/plain": [
       "                                user_id  age           job  marital  \\\n",
       "0  9231c446-cb16-4b2b-a7f7-ddfc8b25aaf6   58    management  married   \n",
       "1  bb92765a-08de-4963-b432-496524b39157   44    technician   single   \n",
       "2  573de577-49ef-42b9-83da-d3cfb817b5c1   33  entrepreneur  married   \n",
       "3  d6b66b9d-7c8f-4257-a682-e136f640b7e3   47   blue-collar  married   \n",
       "4  fade0b20-7594-4d9a-84cd-c02f79b1b526   33          None   single   \n",
       "\n",
       "   education default housing loan contact  duration  campaign  pdays  \\\n",
       "0   tertiary      no     yes   no    None       261         1     -1   \n",
       "1  secondary      no     yes   no    None       151         1     -1   \n",
       "2  secondary      no     yes  yes    None        76         1     -1   \n",
       "3       None      no     yes   no    None        92         1     -1   \n",
       "4       None      no      no   no    None       198         1     -1   \n",
       "\n",
       "   previous poutcome term_deposit date_joined   device  \n",
       "0         0     None           no  1998-08-23   mobile  \n",
       "1         0     None           no  2008-07-15  desktop  \n",
       "2         0     None           no  2002-06-04   mobile  \n",
       "3         0     None           no  1995-06-29   tablet  \n",
       "4         0     None           no  1995-08-01   mobile  "
      ]
     },
     "execution_count": 32,
     "metadata": {},
     "output_type": "execute_result"
    }
   ],
   "source": [
    "users_w_device.head()"
   ]
  },
  {
   "cell_type": "code",
   "execution_count": 33,
   "id": "75112f03",
   "metadata": {},
   "outputs": [
    {
     "data": {
      "text/plain": [
       "(45216, 17)"
      ]
     },
     "execution_count": 33,
     "metadata": {},
     "output_type": "execute_result"
    }
   ],
   "source": [
    "users_w_device.shape"
   ]
  },
  {
   "cell_type": "code",
   "execution_count": 36,
   "id": "be38cc1b",
   "metadata": {},
   "outputs": [],
   "source": [
    "# close database connection\n",
    "\n",
    "conn.close()"
   ]
  },
  {
   "cell_type": "markdown",
   "id": "061159b2",
   "metadata": {},
   "source": [
    "__Merge__ `users_w_device` __with__ `transactions_agg`"
   ]
  },
  {
   "cell_type": "code",
   "execution_count": 39,
   "id": "bbc4c45b",
   "metadata": {},
   "outputs": [],
   "source": [
    "# do a right join so users won't be lost\n",
    "\n",
    "users_w_devices_and_transactions = \\\n",
    "transactions_agg.merge(users_w_device, on ='user_id', how='right')"
   ]
  },
  {
   "cell_type": "code",
   "execution_count": 40,
   "id": "95c1db0c",
   "metadata": {},
   "outputs": [
    {
     "data": {
      "text/html": [
       "<div>\n",
       "<style scoped>\n",
       "    .dataframe tbody tr th:only-of-type {\n",
       "        vertical-align: middle;\n",
       "    }\n",
       "\n",
       "    .dataframe tbody tr th {\n",
       "        vertical-align: top;\n",
       "    }\n",
       "\n",
       "    .dataframe thead th {\n",
       "        text-align: right;\n",
       "    }\n",
       "</style>\n",
       "<table border=\"1\" class=\"dataframe\">\n",
       "  <thead>\n",
       "    <tr style=\"text-align: right;\">\n",
       "      <th></th>\n",
       "      <th>user_id</th>\n",
       "      <th>number_transactions</th>\n",
       "      <th>total_amount_usd</th>\n",
       "      <th>age</th>\n",
       "      <th>job</th>\n",
       "      <th>marital</th>\n",
       "      <th>education</th>\n",
       "      <th>default</th>\n",
       "      <th>housing</th>\n",
       "      <th>loan</th>\n",
       "      <th>contact</th>\n",
       "      <th>duration</th>\n",
       "      <th>campaign</th>\n",
       "      <th>pdays</th>\n",
       "      <th>previous</th>\n",
       "      <th>poutcome</th>\n",
       "      <th>term_deposit</th>\n",
       "      <th>date_joined</th>\n",
       "      <th>device</th>\n",
       "    </tr>\n",
       "  </thead>\n",
       "  <tbody>\n",
       "    <tr>\n",
       "      <th>0</th>\n",
       "      <td>9231c446-cb16-4b2b-a7f7-ddfc8b25aaf6</td>\n",
       "      <td>3.0</td>\n",
       "      <td>2143.0</td>\n",
       "      <td>58</td>\n",
       "      <td>management</td>\n",
       "      <td>married</td>\n",
       "      <td>tertiary</td>\n",
       "      <td>no</td>\n",
       "      <td>yes</td>\n",
       "      <td>no</td>\n",
       "      <td>None</td>\n",
       "      <td>261</td>\n",
       "      <td>1</td>\n",
       "      <td>-1</td>\n",
       "      <td>0</td>\n",
       "      <td>None</td>\n",
       "      <td>no</td>\n",
       "      <td>1998-08-23</td>\n",
       "      <td>mobile</td>\n",
       "    </tr>\n",
       "    <tr>\n",
       "      <th>1</th>\n",
       "      <td>bb92765a-08de-4963-b432-496524b39157</td>\n",
       "      <td>NaN</td>\n",
       "      <td>NaN</td>\n",
       "      <td>44</td>\n",
       "      <td>technician</td>\n",
       "      <td>single</td>\n",
       "      <td>secondary</td>\n",
       "      <td>no</td>\n",
       "      <td>yes</td>\n",
       "      <td>no</td>\n",
       "      <td>None</td>\n",
       "      <td>151</td>\n",
       "      <td>1</td>\n",
       "      <td>-1</td>\n",
       "      <td>0</td>\n",
       "      <td>None</td>\n",
       "      <td>no</td>\n",
       "      <td>2008-07-15</td>\n",
       "      <td>desktop</td>\n",
       "    </tr>\n",
       "    <tr>\n",
       "      <th>2</th>\n",
       "      <td>573de577-49ef-42b9-83da-d3cfb817b5c1</td>\n",
       "      <td>2.0</td>\n",
       "      <td>2.0</td>\n",
       "      <td>33</td>\n",
       "      <td>entrepreneur</td>\n",
       "      <td>married</td>\n",
       "      <td>secondary</td>\n",
       "      <td>no</td>\n",
       "      <td>yes</td>\n",
       "      <td>yes</td>\n",
       "      <td>None</td>\n",
       "      <td>76</td>\n",
       "      <td>1</td>\n",
       "      <td>-1</td>\n",
       "      <td>0</td>\n",
       "      <td>None</td>\n",
       "      <td>no</td>\n",
       "      <td>2002-06-04</td>\n",
       "      <td>mobile</td>\n",
       "    </tr>\n",
       "    <tr>\n",
       "      <th>3</th>\n",
       "      <td>d6b66b9d-7c8f-4257-a682-e136f640b7e3</td>\n",
       "      <td>NaN</td>\n",
       "      <td>NaN</td>\n",
       "      <td>47</td>\n",
       "      <td>blue-collar</td>\n",
       "      <td>married</td>\n",
       "      <td>None</td>\n",
       "      <td>no</td>\n",
       "      <td>yes</td>\n",
       "      <td>no</td>\n",
       "      <td>None</td>\n",
       "      <td>92</td>\n",
       "      <td>1</td>\n",
       "      <td>-1</td>\n",
       "      <td>0</td>\n",
       "      <td>None</td>\n",
       "      <td>no</td>\n",
       "      <td>1995-06-29</td>\n",
       "      <td>tablet</td>\n",
       "    </tr>\n",
       "    <tr>\n",
       "      <th>4</th>\n",
       "      <td>fade0b20-7594-4d9a-84cd-c02f79b1b526</td>\n",
       "      <td>1.0</td>\n",
       "      <td>1.0</td>\n",
       "      <td>33</td>\n",
       "      <td>None</td>\n",
       "      <td>single</td>\n",
       "      <td>None</td>\n",
       "      <td>no</td>\n",
       "      <td>no</td>\n",
       "      <td>no</td>\n",
       "      <td>None</td>\n",
       "      <td>198</td>\n",
       "      <td>1</td>\n",
       "      <td>-1</td>\n",
       "      <td>0</td>\n",
       "      <td>None</td>\n",
       "      <td>no</td>\n",
       "      <td>1995-08-01</td>\n",
       "      <td>mobile</td>\n",
       "    </tr>\n",
       "  </tbody>\n",
       "</table>\n",
       "</div>"
      ],
      "text/plain": [
       "                                user_id  number_transactions  \\\n",
       "0  9231c446-cb16-4b2b-a7f7-ddfc8b25aaf6                  3.0   \n",
       "1  bb92765a-08de-4963-b432-496524b39157                  NaN   \n",
       "2  573de577-49ef-42b9-83da-d3cfb817b5c1                  2.0   \n",
       "3  d6b66b9d-7c8f-4257-a682-e136f640b7e3                  NaN   \n",
       "4  fade0b20-7594-4d9a-84cd-c02f79b1b526                  1.0   \n",
       "\n",
       "   total_amount_usd  age           job  marital  education default housing  \\\n",
       "0            2143.0   58    management  married   tertiary      no     yes   \n",
       "1               NaN   44    technician   single  secondary      no     yes   \n",
       "2               2.0   33  entrepreneur  married  secondary      no     yes   \n",
       "3               NaN   47   blue-collar  married       None      no     yes   \n",
       "4               1.0   33          None   single       None      no      no   \n",
       "\n",
       "  loan contact  duration  campaign  pdays  previous poutcome term_deposit  \\\n",
       "0   no    None       261         1     -1         0     None           no   \n",
       "1   no    None       151         1     -1         0     None           no   \n",
       "2  yes    None        76         1     -1         0     None           no   \n",
       "3   no    None        92         1     -1         0     None           no   \n",
       "4   no    None       198         1     -1         0     None           no   \n",
       "\n",
       "  date_joined   device  \n",
       "0  1998-08-23   mobile  \n",
       "1  2008-07-15  desktop  \n",
       "2  2002-06-04   mobile  \n",
       "3  1995-06-29   tablet  \n",
       "4  1995-08-01   mobile  "
      ]
     },
     "execution_count": 40,
     "metadata": {},
     "output_type": "execute_result"
    }
   ],
   "source": [
    "users_w_devices_and_transactions.head()"
   ]
  },
  {
   "cell_type": "code",
   "execution_count": 41,
   "id": "b943d3d4",
   "metadata": {},
   "outputs": [
    {
     "data": {
      "text/plain": [
       "(45216, 19)"
      ]
     },
     "execution_count": 41,
     "metadata": {},
     "output_type": "execute_result"
    }
   ],
   "source": [
    "users_w_devices_and_transactions.shape"
   ]
  },
  {
   "cell_type": "code",
   "execution_count": null,
   "id": "6536cb20",
   "metadata": {},
   "outputs": [],
   "source": []
  }
 ],
 "metadata": {
  "kernelspec": {
   "display_name": "Python 3 (ipykernel)",
   "language": "python",
   "name": "python3"
  },
  "language_info": {
   "codemirror_mode": {
    "name": "ipython",
    "version": 3
   },
   "file_extension": ".py",
   "mimetype": "text/x-python",
   "name": "python",
   "nbconvert_exporter": "python",
   "pygments_lexer": "ipython3",
   "version": "3.10.12"
  }
 },
 "nbformat": 4,
 "nbformat_minor": 5
}
